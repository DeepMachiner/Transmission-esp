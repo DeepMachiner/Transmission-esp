{
 "cells": [
  {
   "cell_type": "code",
   "execution_count": null,
   "metadata": {},
   "outputs": [
    {
     "name": "stdout",
     "output_type": "stream",
     "text": [
      " * Serving Flask app \"__main__\" (lazy loading)\n",
      " * Environment: production\n",
      "   WARNING: This is a development server. Do not use it in a production deployment.\n",
      "   Use a production WSGI server instead.\n",
      " * Debug mode: off\n"
     ]
    },
    {
     "name": "stderr",
     "output_type": "stream",
     "text": [
      " * Running on http://127.0.0.1:3338/ (Press CTRL+C to quit)\n"
     ]
    }
   ],
   "source": [
    "# This is the code\n",
    "# Find me on discord ZDev1#4511\n",
    "# We shouldn't install flask in the terminal, it is already imported\n",
    "from flask import Flask\n",
    "import paho.mqtt.client as mqtt\n",
    "\n",
    "app = Flask(__name__)\n",
    "\n",
    "client = mqtt.Client()\n",
    "username = \"dhruv.puri.mail@gmail.com\"\n",
    "password = \"newtopic\"\n",
    "topic = \"dhruv.puri.mail@gmail.com/Acceleration\"\n",
    "\n",
    "# Databse credtials\n",
    "# Database object\n",
    "\n",
    "def init():\n",
    "    client.username_pw_set(username, password)\n",
    "\n",
    "    def on_msg(client, userdata, msg):\n",
    "        # Database.append.to.table || Data.push (schema less)\n",
    "        f = open(\"log.txt\", \"a\")\n",
    "        f.truncate()\n",
    "        f.write(msg.topic + \" \" + str(msg.payload) + \"\\n\")\n",
    "        f.close()\n",
    "    \n",
    "    on_cnt = lambda client, userdata, flags, rc: client.subscribe(topic)\n",
    "    client.on_connect = on_cnt\n",
    "    client.on_message = on_msg\n",
    "\n",
    "    client.connect(\"maqiatto.com\")\n",
    "    client.loop_start()\n",
    "\n",
    "\n",
    "# route function\n",
    "@app.route(\"/dashboard\")\n",
    "def home():\n",
    "    return \"hey!\"\n",
    "\n",
    "\n",
    "# listen\n",
    "if __name__ == \"__main__\":\n",
    "    init()\n",
    "    app.run(port=3338)"
   ]
  },
  {
   "cell_type": "code",
   "execution_count": null,
   "metadata": {},
   "outputs": [],
   "source": []
  }
 ],
 "metadata": {
  "kernelspec": {
   "display_name": "Python 3",
   "language": "python",
   "name": "python3"
  },
  "language_info": {
   "codemirror_mode": {
    "name": "ipython",
    "version": 3
   },
   "file_extension": ".py",
   "mimetype": "text/x-python",
   "name": "python",
   "nbconvert_exporter": "python",
   "pygments_lexer": "ipython3",
   "version": "3.7.6"
  }
 },
 "nbformat": 4,
 "nbformat_minor": 4
}
